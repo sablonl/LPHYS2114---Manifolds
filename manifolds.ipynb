{
 "cells": [
  {
   "cell_type": "markdown",
   "id": "51677c9a",
   "metadata": {},
   "source": [
    "# Analysis of Stable and Unstable Manifolds\n",
    "\n",
    "In this notebook, we will analyze a nonlinear dynamical system and compute its stable and unstable manifolds near hyperbolic equilibrium points.\n",
    "\n",
    "## System of ODEs\n",
    "\n",
    "We consider the following system of ordinary differential equations:\n",
    "\n",
    "$$\\begin{aligned}\n",
    "\\frac{dx}{dt} &= f_{1}(x,y) \\\\\n",
    "\\frac{dy}{dt} &= f_{2}(x,y)\n",
    "\\end{aligned}$$\n",
    "\n",
    "Hopefully, the code is designed to handle any polynomial system of ODEs. Fell free to test whatever you want !\n",
    "\n",
    "Our goal is to:\n",
    "1. Find the equilibrium points\n",
    "2. Identify hyperbolic equilibrium points\n",
    "3. Compute the stable and unstable manifolds\n",
    "4. Visualize the results"
   ]
  },
  {
   "cell_type": "markdown",
   "id": "5f6ab03d",
   "metadata": {},
   "source": [
    "## Setup: Package Installation and Loading\n",
    "\n",
    "First, we need to set up our environment with the necessary Julia packages."
   ]
  },
  {
   "cell_type": "code",
   "execution_count": null,
   "id": "71db4ea5",
   "metadata": {},
   "outputs": [
    {
     "name": "stderr",
     "output_type": "stream",
     "text": [
      "\u001b[32m\u001b[1m  Activating\u001b[22m\u001b[39m project at `~/Documents/LPHYS2114/LPHYS2114_texfiles_french/Serie 4/notebooks`\n",
      "\u001b[36m\u001b[1m     Project\u001b[22m\u001b[39m No packages added to or removed from `~/Documents/LPHYS2114/LPHYS2114_texfiles_french/Serie 4/notebooks/Project.toml`\n",
      "\u001b[36m\u001b[1m    Manifest\u001b[22m\u001b[39m No packages added to or removed from `~/Documents/LPHYS2114/LPHYS2114_texfiles_french/Serie 4/notebooks/Manifest.toml`\n",
      "\u001b[32m\u001b[1m    Updating\u001b[22m\u001b[39m registry at `~/.julia/registries/General.toml`\n",
      "\u001b[32m\u001b[1m   Installed\u001b[22m\u001b[39m Static ────────── v1.3.1\n",
      "\u001b[32m\u001b[1m   Installed\u001b[22m\u001b[39m SciMLLogging ──── v1.3.1\n",
      "\u001b[32m\u001b[1m   Installed\u001b[22m\u001b[39m BlockArrays ───── v1.9.0\n",
      "\u001b[32m\u001b[1m   Installed\u001b[22m\u001b[39m SciMLBase ─────── v2.123.0\n",
      "\u001b[32m\u001b[1m   Installed\u001b[22m\u001b[39m ModelingToolkit ─ v10.26.1\n",
      "\u001b[32m\u001b[1m   Installed\u001b[22m\u001b[39m LinearSolve ───── v3.28.0\n",
      "\u001b[32m\u001b[1m   Installed\u001b[22m\u001b[39m OrdinaryDiffEq ── v6.103.0\n",
      "\u001b[32m\u001b[1m    Updating\u001b[22m\u001b[39m `~/Documents/LPHYS2114/LPHYS2114_texfiles_french/Serie 4/notebooks/Project.toml`\n",
      "  \u001b[90m[961ee093] \u001b[39m\u001b[93m↑ ModelingToolkit v10.26.0 ⇒ v10.26.1\u001b[39m\u001b[93m [loaded: v10.26.0]\u001b[39m\n",
      "  \u001b[90m[1dea7af3] \u001b[39m\u001b[93m↑ OrdinaryDiffEq v6.102.1 ⇒ v6.103.0\u001b[39m\u001b[93m [loaded: v6.102.1]\u001b[39m\n",
      "\u001b[32m\u001b[1m    Updating\u001b[22m\u001b[39m `~/Documents/LPHYS2114/LPHYS2114_texfiles_french/Serie 4/notebooks/Manifest.toml`\n",
      "  \u001b[90m[8e7c35d0] \u001b[39m\u001b[93m↑ BlockArrays v1.7.2 ⇒ v1.9.0\u001b[39m\u001b[93m [loaded: v1.7.2]\u001b[39m\n",
      "\u001b[32m⌃\u001b[39m \u001b[90m[7ed4a6bd] \u001b[39m\u001b[95m↓ LinearSolve v3.45.0 ⇒ v3.28.0\u001b[39m\u001b[93m [loaded: v3.45.0]\u001b[39m\n",
      "  \u001b[90m[e6f89c97] \u001b[39m\u001b[92m+ LoggingExtras v1.2.0\u001b[39m\n",
      "  \u001b[90m[961ee093] \u001b[39m\u001b[93m↑ ModelingToolkit v10.26.0 ⇒ v10.26.1\u001b[39m\u001b[93m [loaded: v10.26.0]\u001b[39m\n",
      "  \u001b[90m[1dea7af3] \u001b[39m\u001b[93m↑ OrdinaryDiffEq v6.102.1 ⇒ v6.103.0\u001b[39m\u001b[93m [loaded: v6.102.1]\u001b[39m\n",
      "  \u001b[90m[0bca4576] \u001b[39m\u001b[93m↑ SciMLBase v2.122.0 ⇒ v2.123.0\u001b[39m\u001b[93m [loaded: v2.122.0]\u001b[39m\n",
      "  \u001b[90m[a6db7da4] \u001b[39m\u001b[92m+ SciMLLogging v1.3.1\u001b[39m\n",
      "  \u001b[90m[aedffcd0] \u001b[39m\u001b[93m↑ Static v1.3.0 ⇒ v1.3.1\u001b[39m\u001b[93m [loaded: v1.3.0]\u001b[39m\n",
      "\u001b[36m\u001b[1m        Info\u001b[22m\u001b[39m Packages marked with \u001b[32m⌃\u001b[39m have new versions available and may be upgradable.\n",
      "\u001b[32m\u001b[1mPrecompiling\u001b[22m\u001b[39m packages...\n",
      "   4657.1 ms\u001b[32m  ✓ \u001b[39m\u001b[90mSciMLLogging\u001b[39m\n"
     ]
    }
   ],
   "source": [
    "using Pkg;\n",
    "Pkg.activate(@__DIR__);\n",
    "Pkg.resolve()\n",
    "Pkg.update()\n",
    "Pkg.instantiate(); # Run this line if you have some issue loading packages"
   ]
  },
  {
   "cell_type": "code",
   "execution_count": 2,
   "id": "103f9dee",
   "metadata": {},
   "outputs": [],
   "source": [
    "using Symbolics, Groebner # Groebner engine is needed for symbolic_solve with multiple variables\n",
    "# If the system is more complex, consider using SymPy or evern more powerful engine such as WolframEngine (Mathematica)\n",
    "using ModelingToolkit, OrdinaryDiffEq\n",
    "using Makie, CairoMakie\n",
    "set_theme!(theme_latexfonts())\n",
    "\n",
    "using LinearAlgebra"
   ]
  },
  {
   "cell_type": "markdown",
   "id": "aab6182c",
   "metadata": {},
   "source": [
    "## Step 1: Define the Symbolic Variables and ODE System\n",
    "\n",
    "We use symbolic computation to define our system. The `@independent_variables` and `@variables` macros allow us to work with symbolic expressions."
   ]
  },
  {
   "cell_type": "code",
   "execution_count": null,
   "id": "044514fd",
   "metadata": {},
   "outputs": [],
   "source": [
    "# Define the symbolic variables for the ODE system\n",
    "@independent_variables t\n",
    "@variables x(t) y(t) # Don't specify type, wait for SymbolicUtils v4.0 for Type-stable variables\n",
    "dₜ = Differential(t);\n",
    "∂ₓ = Differential(x);\n",
    "∂ᵧ = Differential(y);"
   ]
  },
  {
   "cell_type": "code",
   "execution_count": null,
   "id": "13d90bcf",
   "metadata": {},
   "outputs": [],
   "source": [
    "# Define the system of ODEs\n",
    "# Note: The Grobner engine cannot handle non-polynomial equations, so we keep everything polynomial\n",
    "eqs = [\n",
    "\tdₜ(x) ~ x*(1+y) + x^2*y + y^3 + 0//1,\n",
    "\tdₜ(y) ~ -y - x^2 + 0//1,\n",
    "]"
   ]
  },
  {
   "cell_type": "markdown",
   "id": "cc0b123c",
   "metadata": {},
   "source": [
    "## Step 2: Find Equilibrium Points\n",
    "\n",
    "Equilibrium points occur where the time derivatives are zero, i.e., where:\n",
    "$$\\frac{dx}{dt} = 0 \\quad \\text{and} \\quad \\frac{dy}{dt} = 0$$\n",
    "\n",
    "We solve this system symbolically and filter for real solutions only."
   ]
  },
  {
   "cell_type": "code",
   "execution_count": null,
   "id": "e460ef24",
   "metadata": {},
   "outputs": [],
   "source": [
    "# Solve the RHS == 0 for equilibrium points\n",
    "nl_eqs = [0 ~ eq.rhs for eq in eqs]\n",
    "roots = symbolic_solve(nl_eqs, [x, y]; dropmultiplicity=true)\n",
    "# Filter only real solutions\n",
    "roots = [root for root in roots if all(isreal.(values(root)))]\n",
    "println(\"Found $(length(roots)) real equilibrium points:\")\n",
    "for root in roots\n",
    "    println(\"  (x, y) = ($(root[x]), $(root[y]))\")\n",
    "end;"
   ]
  },
  {
   "cell_type": "markdown",
   "id": "9d6d656a",
   "metadata": {},
   "source": [
    "## Step 3: Compute the Jacobian and Identify Hyperbolic Points\n",
    "\n",
    "The **Jacobian matrix** at an equilibrium point determines the local linear behavior:\n",
    "\n",
    "$$J = \\begin{pmatrix}\n",
    "\\frac{\\partial f_1}{\\partial x} & \\frac{\\partial f_1}{\\partial y} \\\\\n",
    "\\frac{\\partial f_2}{\\partial x} & \\frac{\\partial f_2}{\\partial y}\n",
    "\\end{pmatrix}$$\n",
    "\n",
    "A point is **hyperbolic** if all eigenvalues of the Jacobian have non-zero real parts. For a 2D system, a hyperbolic point is a **saddle point** if the eigenvalues have opposite signs (i.e., their product is negative) and are therefore real (because in 2D, complex eigenvalues come in conjugate pairs)."
   ]
  },
  {
   "cell_type": "code",
   "execution_count": null,
   "id": "9ec5321f",
   "metadata": {},
   "outputs": [],
   "source": [
    "# Compute the jacobian matrix\n",
    "J = vcat([[expand_derivatives(∂ₓ(eq.rhs)) expand_derivatives(∂ᵧ(eq.rhs))] for eq in eqs]...) .|> simplify .|> Num\n",
    "println(\"Jacobian matrix:\")\n",
    "display(J)"
   ]
  },
  {
   "cell_type": "code",
   "execution_count": null,
   "id": "c5452fff",
   "metadata": {},
   "outputs": [],
   "source": [
    "# Evaluate the jacobian at each equilibrium point and compute eigenvalues\n",
    "hyperbolic_points = Any[]\n",
    "for root in roots\n",
    "\tJ_eval = substitute.(J, Ref(root)) .|> Symbolics.symbolic_to_float .|> Float64\n",
    "\tprintln(\"Equilibrium point: (x, y) = ($(root[x]), $(root[y]))\")\n",
    "\tprintln(\"Jacobian at this point:\")\n",
    "\tdisplay(J_eval)\n",
    "\teigs = eigen(J_eval)\n",
    "\tprintln(\"Eigenvalues: $(eigs.values)\\n\")\n",
    "\n",
    "\tif all(isreal.(eigs.values)) && (prod(eigs.values) < 0)\n",
    "\t\tpush!(hyperbolic_points, root)\n",
    "\tend\n",
    "end\n",
    "println(\"$(length(hyperbolic_points)) hyperbolic equilibrium points found:\")\n",
    "for hp in hyperbolic_points\n",
    "\tprintln(\"  (x, y) = ($(hp[x]), $(hp[y]))\")\n",
    "end"
   ]
  },
  {
   "cell_type": "markdown",
   "id": "0bd194c6",
   "metadata": {},
   "source": [
    "## Step 4: Select a Hyperbolic Point for Analysis\n",
    "\n",
    "Now we will analyze one of the hyperbolic points in detail. Change `id_point` to analyze a different hyperbolic equilibrium point."
   ]
  },
  {
   "cell_type": "code",
   "execution_count": null,
   "id": "15d7197a",
   "metadata": {},
   "outputs": [],
   "source": [
    "id_point::Int = 1 # Between 1 and length(hyperbolic_points)\n",
    "@assert 1 <= id_point <= length(hyperbolic_points) \"id_point must be between 1 and $(length(hyperbolic_points))\"\n",
    "hp = hyperbolic_points[id_point]\n",
    "J_hp = substitute.(J, Ref(hp)) .|> Symbolics.value .|> Num\n",
    "println(\"Selected hyperbolic point: (x, y) = ($(hp[x]), $(hp[y]))\")"
   ]
  },
  {
   "cell_type": "markdown",
   "id": "e7bd462c",
   "metadata": {},
   "source": [
    "## Step 5: Coordinate Transformation\n",
    "\n",
    "To simplify the analysis, we perform two coordinate transformations:\n",
    "\n",
    "1. **Translation**: Move the hyperbolic point to the origin\n",
    "   - New coordinates: $(\\tilde{x}, \\tilde{y}) = (x - x_0, y - y_0)$\n",
    "\n",
    "2. **Rotation to eigenbasis**: Express the system in terms of the eigenvectors of the Jacobian\n",
    "   - New coordinates: $(u, v) = P^{-1}(\\tilde{x}, \\tilde{y})$ where $P$ is the matrix of eigenvectors\n",
    "   \n",
    "In these coordinates, the linearized system becomes diagonal:\n",
    "$$\\frac{d}{dt}\\begin{pmatrix}u \\\\ v\\end{pmatrix} = \\begin{pmatrix}\\lambda_1 & 0 \\\\ 0 & \\lambda_2\\end{pmatrix}\\begin{pmatrix}u \\\\ v\\end{pmatrix} + \\text{nonlinear terms}$$\n",
    "\n",
    "Fortunately, the `eigen` function automatically sort the eigenvalues and eigenvectors in ascending order."
   ]
  },
  {
   "cell_type": "code",
   "execution_count": null,
   "id": "9e34dfe9",
   "metadata": {},
   "outputs": [],
   "source": [
    "# Translate the system so that the hyperbolic point is at the origin\n",
    "@variables x̄ ȳ # Translated variables\n",
    "translation = [hp[x], hp[y]] .|> Rational\n",
    "tmap = Dict([x, y] .=> [x̄, ȳ] .+ translation)\n",
    "invtmap = Dict([x̄, ȳ] .=> [x, y] .- translation)\n",
    "\n",
    "new_eqs_bar = [\n",
    "\tsubstitute(eq.rhs, tmap) |> simplify |> expand for eq in eqs\n",
    "]"
   ]
  },
  {
   "cell_type": "code",
   "execution_count": null,
   "id": "0c7d2959",
   "metadata": {},
   "outputs": [],
   "source": [
    "# Express the system in the eigenbasis of the Jacobian\n",
    "@variables u v # Variables in the eigenbasis\n",
    "\n",
    "# To avoid loosing Float64 precision when computing eigenvectors, we will try a symbolic solution\n",
    "@variables λ\n",
    "λ₁, λ₂ = symbolic_solve(det(J_hp - λ*I) ~ 0, [λ]; dropmultiplicity=false) .|> Num |> sort\n",
    "display((λ₁, λ₂))\n",
    "\n",
    "# Compute eignevectors symbolically associated to each eigenvalue\n",
    "@variables symv₁[1:2] symv₂[1:2]\n",
    "sol_symv₁ = symbolic_solve(((J_hp - λ₁*I) * collect(symv₁)) .~ 0, collect(symv₁); dropmultiplicity=true)\n",
    "sol_symv₂ = symbolic_solve(((J_hp - λ₂*I) * collect(symv₂)) .~ 0, collect(symv₂); dropmultiplicity=true)\n",
    "\n",
    "v₁ = substitute.(substitute.(collect(symv₁), Ref(merge(sol_symv₁...))), Ref(Dict(collect(symv₁) .=> Num[1, 1])))\n",
    "v₂ = substitute.(substitute.(collect(symv₂), Ref(merge(sol_symv₂...))), Ref(Dict(collect(symv₂) .=> Num[1, 1])))\n",
    "\n",
    "display(v₁)\n",
    "display(v₂)\n",
    "\n",
    "P = hcat(v₁, v₂)\n",
    "display(P)\n",
    "invP = inv(P)\n",
    "display(invP)\n",
    "\n",
    "# Safety check :\n",
    "D = invP * J_hp * P # Should be diagonal\n",
    "display(D)\n"
   ]
  },
  {
   "cell_type": "code",
   "execution_count": null,
   "id": "ae562632",
   "metadata": {},
   "outputs": [],
   "source": [
    "map = Dict([u, v] .=> invP * [x̄, ȳ])\n",
    "inv_map = Dict([x̄, ȳ] .=> P * [u, v])\n",
    "\n",
    "display(map)\n",
    "display(inv_map)"
   ]
  },
  {
   "cell_type": "code",
   "execution_count": null,
   "id": "17308e48",
   "metadata": {},
   "outputs": [],
   "source": [
    "# Express the ODEs in the new (u, v) coordinates\n",
    "new_eqs = invP * [\n",
    "\tsubstitute(new_eq_bar, inv_map) for new_eq_bar in new_eqs_bar\n",
    "] .|> expand\n",
    "\n",
    "println(\"System in (u, v) coordinates:\")\n",
    "display(new_eqs)"
   ]
  },
  {
   "cell_type": "markdown",
   "id": "4388c823",
   "metadata": {},
   "source": [
    "## Step 6: Compute Local Manifolds via Taylor Expansion\n",
    "\n",
    "For a hyperbolic saddle point, we have:\n",
    "- **Stable manifold**: trajectories that approach the equilibrium as $t \\to +\\infty$\n",
    "- **Unstable manifold**: trajectories that approach the equilibrium as $t \\to -\\infty$\n",
    "\n",
    "In the eigenbasis $(u, v)$, assuming $\\lambda_u < 0 < \\lambda_v$:\n",
    "- The **stable manifold** is locally a curve $v = s(u)$ with $s(0) = 0$, $s'(0) = 0$\n",
    "- The **unstable manifold** is locally a curve $u = h(v)$ with $h(0) = 0$, $h'(0) = 0$\n",
    "\n",
    "We compute these as Taylor series: $s(u) = s_2 u^2 + s_3 u^3 + \\cdots$ and $h(v) = h_2 v^2 + h_3 v^3 + \\cdots$\n",
    "\n",
    "The coefficients are determined by the invariance condition: points on the manifold must flow along the manifold."
   ]
  },
  {
   "cell_type": "code",
   "execution_count": null,
   "id": "308cbeea",
   "metadata": {},
   "outputs": [],
   "source": [
    "# Set the order of the Taylor expansion\n",
    "M::Int = 12 # Order of the taylor expansion\n",
    "@variables s[2:M] h[2:M]\n",
    "\n",
    "# Define the Taylor series for the stable and unstable manifolds\n",
    "s_expr = sum(s[k] * u^k for k in 2:M);\n",
    "s′_expr = sum(s[k] * k * u^(k-1) for k in 2:M);\n",
    "h_expr = sum(h[k] * v^k for k in 2:M);\n",
    "h′_expr = sum(h[k] * k * v^(k-1) for k in 2:M);\n",
    "\n",
    "display(s_expr)\n",
    "display(h_expr)"
   ]
  },
  {
   "cell_type": "markdown",
   "id": "50dd41a3",
   "metadata": {},
   "source": [
    "### Stable Manifold Computation\n",
    "\n",
    "For the stable manifold $v = s(u)$, we use the chain rule:\n",
    "$$\\frac{dv}{dt} = \\frac{ds}{du} \\frac{du}{dt} = s'(u) \\cdot f_u(u, s(u))$$\n",
    "\n",
    "This must equal $f_v(u, s(u))$ for the curve to be invariant. Matching coefficients of powers of $u$ gives us equations for the $s_k$ coefficients."
   ]
  },
  {
   "cell_type": "code",
   "execution_count": null,
   "id": "12c60c8c",
   "metadata": {},
   "outputs": [],
   "source": [
    "# Stable manifold: dv/dt = ds/dt = (ds/du)(du/dt) = s'(u) * new_eqs[1] (evaluated at v = s(u))\n",
    "lhs_stable = s′_expr * substitute(new_eqs[1], Dict(v => s_expr)) |> expand\n",
    "rhs_stable = substitute(new_eqs[2], Dict(v => s_expr)) |> expand\n",
    "coeffs_stable_lhs = Symbolics.coeff.(Ref(lhs_stable), u .^ (2:M))\n",
    "coeffs_stable_rhs = Symbolics.coeff.(Ref(rhs_stable), u .^ (2:M))\n",
    "eqs_stable = coeffs_stable_lhs .~ coeffs_stable_rhs"
   ]
  },
  {
   "cell_type": "markdown",
   "id": "ae4c4e12",
   "metadata": {},
   "source": [
    "### Unstable Manifold Computation\n",
    "\n",
    "Similarly, for the unstable manifold $u = h(v)$:\n",
    "$$\\frac{du}{dt} = \\frac{dh}{dv} \\frac{dv}{dt} = h'(v) \\cdot f_v(h(v), v)$$"
   ]
  },
  {
   "cell_type": "code",
   "execution_count": null,
   "id": "5f550e88",
   "metadata": {},
   "outputs": [],
   "source": [
    "# Unstable manifold: du/dt = dh/dt = (dh/dv)(dv/dt) = h'(v) * new_eqs[2] (evaluated at u = h(v))\n",
    "lhs_unstable = h′_expr * substitute(new_eqs[2], Dict(u => h_expr)) |> expand\n",
    "rhs_unstable = substitute(new_eqs[1], Dict(u => h_expr)) |> expand\n",
    "coeffs_unstable_lhs = Symbolics.coeff.(Ref(lhs_unstable), v .^ (2:M))\n",
    "coeffs_unstable_rhs = Symbolics.coeff.(Ref(rhs_unstable), v .^ (2:M))\n",
    "eqs_unstable = coeffs_unstable_lhs .~ coeffs_unstable_rhs"
   ]
  },
  {
   "cell_type": "code",
   "execution_count": null,
   "id": "4f5a3e0f",
   "metadata": {},
   "outputs": [],
   "source": [
    "# Helper function to solve the system of equations iteratively\n",
    "# We solve for each coefficient starting from the lowest order, substituting previously found coefficients\n",
    "function my_solve(coeffs, vars)\n",
    "\tsol = Dict{Num, Rational}()\n",
    "\tfor (i, coeff) in enumerate(coeffs)\n",
    "\t\teq = substitute(coeff, sol)\n",
    "\t\tvar = vars[i]\n",
    "\t\tsingle_sol = symbolic_linear_solve(eq, var)\n",
    "\t\t@assert length(single_sol) == 1 \"Expected a unique solution for variable $var\"\n",
    "\t\tsol[var] = single_sol[1] |> Symbolics.value |> Rational{BigInt}\n",
    "\tend\n",
    "\treturn sol\n",
    "end;"
   ]
  },
  {
   "cell_type": "code",
   "execution_count": null,
   "id": "3a79cdf5",
   "metadata": {},
   "outputs": [],
   "source": [
    "# Solve for the coefficients of the stable manifold\n",
    "stable_manifold_sol = my_solve(eqs_stable, Symbolics.scalarize(s[2:M]))\n",
    "display(stable_manifold_sol)\n",
    "stable_manifold_u = [u, substitute(s_expr, stable_manifold_sol)]\n",
    "\n",
    "println(\"Local stable manifold (in (u,v) coordinates): v = s(u) = \")\n",
    "display(stable_manifold_u[2])"
   ]
  },
  {
   "cell_type": "code",
   "execution_count": null,
   "id": "924fbe2b",
   "metadata": {},
   "outputs": [],
   "source": [
    "# Solve for the coefficients of the unstable manifold\n",
    "unstable_manifold_sol = my_solve(eqs_unstable, Symbolics.scalarize(h[2:M]))\n",
    "display(unstable_manifold_sol)\n",
    "unstable_manifold_v = [substitute(h_expr, unstable_manifold_sol), v]\n",
    "\n",
    "println(\"Local unstable manifold (in (u,v) coordinates): u = h(v)\")\n",
    "println(\"First few terms:\")\n",
    "display(unstable_manifold_v[1])"
   ]
  },
  {
   "cell_type": "code",
   "execution_count": null,
   "id": "c66b6a93",
   "metadata": {},
   "outputs": [],
   "source": [
    "# Create functions for numerical evaluation\n",
    "stab(u) = substitute(stable_manifold_u[2], Dict(stable_manifold_u[1] => u)) |> Symbolics.value;\n",
    "ustab(v) = substitute(unstable_manifold_v[1], Dict(unstable_manifold_v[2] => v)) |> Symbolics.value;"
   ]
  },
  {
   "cell_type": "markdown",
   "id": "8fa7e725",
   "metadata": {},
   "source": [
    "## Step 7: Transform Back to Original Coordinates\n",
    "\n",
    "Now we transform the manifolds back to the original $(x, y)$ coordinate system for visualization."
   ]
  },
  {
   "cell_type": "code",
   "execution_count": null,
   "id": "72815861",
   "metadata": {},
   "outputs": [],
   "source": [
    "# Express the manifolds in the original (x,y) coordinates\n",
    "stable_manifold_xy = Num.(P) * substitute.(substitute.(stable_manifold_u, Ref(map)), Ref(invtmap)) .+ translation .|> simplify \n",
    "display(stable_manifold_xy)\n",
    "unstable_manifold_xy = Num.(P) * substitute.(substitute.(unstable_manifold_v, Ref(map)), Ref(invtmap)) .+ translation .|> simplify\n",
    "display(unstable_manifold_xy)"
   ]
  },
  {
   "cell_type": "markdown",
   "id": "da8453a5",
   "metadata": {},
   "source": [
    "## Step 8: Visualization - Local Manifolds\n",
    "\n",
    "We now visualize the flow field and the computed local manifolds (from Taylor series)."
   ]
  },
  {
   "cell_type": "code",
   "execution_count": null,
   "id": "f2f7dcf6",
   "metadata": {},
   "outputs": [],
   "source": [
    "# Define the ODE function for plotting\n",
    "odeSol(_x, _y) = Point2(substitute.([eq.rhs for eq in eqs], Ref(Dict(x => _x, y => _y))));"
   ]
  },
  {
   "cell_type": "code",
   "execution_count": null,
   "id": "5432f9a7",
   "metadata": {},
   "outputs": [],
   "source": [
    "# Figure styling parameters\n",
    "begin\n",
    "\tdx, dy = 4.0, 4.0\n",
    "\tfigsize = (600, 600)\n",
    "\tcolor_sable = colorant\"#0E79B2\"\n",
    "\tcolor_unstable = colorant\"#F39237\"\n",
    "\tbackground_color = colorant\"#262626\"\n",
    "\tcolormap = cgrad(:batlowW, rev = true)\n",
    "\tleg_bg_color = (colorant\"#FBFEF9\", 0.85)\n",
    "end;"
   ]
  },
  {
   "cell_type": "code",
   "execution_count": null,
   "id": "11dca763",
   "metadata": {},
   "outputs": [],
   "source": [
    "# First time to plot can take a while on Julia...\n",
    "fig = let\n",
    "\tfig = Figure(size = figsize)\n",
    "\tax = Axis(fig[1, 1], xlabel = L\"x\", ylabel = L\"y\", backgroundcolor = background_color)\n",
    "\tstreamplot!(ax, odeSol, (hp[x] - dx) .. (hp[x] + dx), (hp[y] - dy) .. (hp[y] + dy), colormap = colormap,\n",
    "\t\tgridsize = (32, 32), arrow_size = 8)\n",
    "\t\n",
    "\t# Plot stable manifold\n",
    "\tus_stable = range(hp[x] - 5*dx, hp[x] + 5*dx, length = 750) |> collect\n",
    "\tvs_stable = stab.(us_stable)\n",
    "\txs_stable, ys_stable = eachrow(P * [us_stable'; vs_stable'] .+ translation)\n",
    "\tlines!(ax, Symbolics.value.(xs_stable), Symbolics.value.(ys_stable), color = color_sable, linewidth = 4, label = L\"Stable Manifold $\\mathcal{O}\\left(u^{%$M}\\right)$\")\n",
    "\t\n",
    "\t# Plot unstable manifold\n",
    "\tvs_unstable = range(hp[y] - 2*dy, hp[y] + 2*dy, length = 500) |> collect\n",
    "\tus_unstable = ustab.(vs_unstable)\n",
    "\txs_unstable, ys_unstable = eachrow(P * [us_unstable'; vs_unstable'] .+ translation)\n",
    "\tlines!(ax, Symbolics.value.(xs_unstable), Symbolics.value.(ys_unstable), color = color_unstable, linewidth = 4, label = L\"Unstable Manifold $\\mathcal{O}\\left(v^{%$M}\\right)$\")\n",
    "\t\n",
    "\txlims!(ax, hp[x] - dx, hp[x] + dx)\n",
    "\tylims!(ax, hp[y] - dy, hp[y] + dy)\n",
    "\t# axislegend(ax; position = :rt, backgroundcolor = leg_bg_color)\n",
    "\tfig\n",
    "end"
   ]
  },
  {
   "cell_type": "markdown",
   "id": "c4a9cc27",
   "metadata": {},
   "source": [
    "## Step 9: \"Exact\" Manifolds via Numerical Integration\n",
    "\n",
    "To verify our Taylor expansion and see the global structure, we compute the exact manifolds by numerically integrating trajectories that start very close to the hyperbolic point on the local manifolds.\n",
    "\n",
    "**Method**:\n",
    "- Start at a point very close to the equilibrium on the stable manifold\n",
    "- Integrate **backwards** in time (unstable direction becomes stable backwards)\n",
    "- Start at a point on the unstable manifold\n",
    "- Integrate **forwards** in time"
   ]
  },
  {
   "cell_type": "code",
   "execution_count": null,
   "id": "eb54f114",
   "metadata": {},
   "outputs": [],
   "source": [
    "# Define the ODE system in ModelingToolkit for numerical integration\n",
    "@mtkcompile mtk_sys = System(eqs, t)\n",
    "prob = ODEProblem(mtk_sys, [x => hp[x], y => hp[y]], (0.0, 1.0); jac = true) # Default starting point and time span, we won't use them"
   ]
  },
  {
   "cell_type": "code",
   "execution_count": null,
   "id": "75c43b6b",
   "metadata": {},
   "outputs": [],
   "source": [
    "# Numerically integrate trajectories on the exact manifolds\n",
    "\n",
    "# In this code, type stability should be such that the ODE solvers works in BigFloat, much better than Float64 but slower\n",
    "sol_stable_left, sol_stable_right, sol_unstable_bottom, sol_unstable_top = let\n",
    "\tδ = 1e-15 # Very small displacement from equilibrium\n",
    "\talg = Rodas5P()\n",
    "\tsolkwargs = (abstol = 1e-15, reltol = 1e-15, saveat = 0.025)\n",
    "\tstable_tspan = (0.0, -125.0)   # Integrate backwards in time\n",
    "\tunstable_tspan = (0.0, 125.0)  # Integrate forwards in time\n",
    "\n",
    "\t# Stable manifold: start at (u, s(u)) with u close to 0\n",
    "\tu_left = -δ\n",
    "\tu_right = δ\n",
    "\tv_left = stab(u_left)\n",
    "\tv_right = stab(u_right)\n",
    "\txy0_stable_left = P * [u_left, v_left] .+ translation .|> Symbolics.value\n",
    "\txy0_stable_right = P * [u_right, v_right] .+ translation .|> Symbolics.value\n",
    "\n",
    "\tprob_stable_left = remake(prob, u0 = Dict([x, y] .=> xy0_stable_left))\n",
    "\tprob_stable_right = remake(prob, u0 = Dict([x, y] .=> xy0_stable_right))\n",
    "\n",
    "\tsol_stable_left = solve(prob_stable_left, alg; solkwargs..., tspan = stable_tspan)\n",
    "\tsol_stable_right = solve(prob_stable_right, alg; solkwargs..., tspan = stable_tspan)\n",
    "\n",
    "\t# Unstable manifold: start at (h(v), v) with v close to 0\n",
    "\tv_bottom = -δ\n",
    "\tv_top = δ\n",
    "\tu_bottom = ustab(v_bottom)\n",
    "\tu_top = ustab(v_top)\n",
    "\txy0_unstable_bottom = P * [u_bottom, v_bottom] .+ translation .|> Symbolics.value\n",
    "\txy0_unstable_top = P * [u_top, v_top] .+ translation .|> Symbolics.value\n",
    "\n",
    "\tprob_unstable_bottom = remake(prob, u0 = Dict([x, y] .=> xy0_unstable_bottom))\n",
    "\tprob_unstable_top = remake(prob, u0 = Dict([x, y] .=> xy0_unstable_top))\n",
    "\n",
    "\tsol_unstable_bottom = solve(prob_unstable_bottom, alg; solkwargs..., tspan = unstable_tspan)\n",
    "\tsol_unstable_top = solve(prob_unstable_top, alg; solkwargs..., tspan = unstable_tspan)\n",
    "\n",
    "\t(sol_stable_left, sol_stable_right, sol_unstable_bottom, sol_unstable_top)\n",
    "end;"
   ]
  },
  {
   "cell_type": "markdown",
   "id": "02cb0e6a",
   "metadata": {},
   "source": [
    "## Step 10: Visualization - Exact Manifolds\n",
    "\n",
    "Finally, we visualize the exact stable and unstable manifolds obtained through numerical integration."
   ]
  },
  {
   "cell_type": "code",
   "execution_count": null,
   "id": "6d081666",
   "metadata": {},
   "outputs": [],
   "source": [
    "fig_exact = let\n",
    "\tfig = Figure(size = figsize)\n",
    "\tax = Axis(fig[1, 1], xlabel = L\"x\", ylabel = L\"y\", backgroundcolor = background_color)\n",
    "\tstreamplot!(ax, odeSol, (hp[x] - dx) .. (hp[x] + dx), (hp[y] - dy) .. (hp[y] + dy), colormap = colormap,\n",
    "\t\tgridsize = (32, 32), arrow_size = 8)\n",
    "\t\n",
    "\t# Plot stable manifold trajectories\n",
    "\tlines!(ax, sol_stable_left[x, :], sol_stable_left[y, :], color = color_sable, linewidth = 4, label = \"Stable Manifold (Exact)\")\n",
    "\tlines!(ax, sol_stable_right[x, :], sol_stable_right[y, :], color = color_sable, linewidth = 4)\n",
    "\t\n",
    "\t# Plot unstable manifold trajectories\n",
    "\tlines!(ax, sol_unstable_bottom[x, :], sol_unstable_bottom[y, :], color = color_unstable, linewidth = 4, label = \"Unstable Manifold (Exact)\")\n",
    "\tlines!(ax, sol_unstable_top[x, :], sol_unstable_top[y, :], color = color_unstable, linewidth = 4)\n",
    "\t\n",
    "\txlims!(ax, hp[x] - dx, hp[x] + dx)\n",
    "\tylims!(ax, hp[y] - dy, hp[y] + dy)\n",
    "\taxislegend(ax; position = :rt, backgroundcolor = leg_bg_color)\n",
    "\tfig\n",
    "end"
   ]
  }
 ],
 "metadata": {
  "kernelspec": {
   "display_name": "Julia 1.12.1",
   "language": "julia",
   "name": "julia-1.12"
  },
  "language_info": {
   "file_extension": ".jl",
   "mimetype": "application/julia",
   "name": "julia",
   "version": "1.12.1"
  }
 },
 "nbformat": 4,
 "nbformat_minor": 5
}
